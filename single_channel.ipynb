{
  "nbformat": 4,
  "nbformat_minor": 0,
  "metadata": {
    "colab": {
      "name": "single channel.ipynb",
      "private_outputs": true,
      "provenance": [],
      "collapsed_sections": []
    },
    "kernelspec": {
      "name": "python3",
      "display_name": "Python 3"
    },
    "language_info": {
      "name": "python"
    }
  },
  "cells": [
    {
      "cell_type": "code",
      "metadata": {
        "id": "LloQB6m4QJ-_"
      },
      "source": [
        "#Importing distribution method from scipy\n",
        "from scipy.stats import *\n",
        "interArrivalTime = []\n",
        "arrivalTime = []\n",
        "sT = []\n",
        "sTB = []\n",
        "sTE = []\n",
        "tSS = []\n",
        "tIS = []\n",
        "waitingTime = []\n",
        "mu = 5.6\n",
        "for i in range (19):\n",
        "  n = poisson.rvs(mu)\n",
        "  interArrivalTime.append(n)\n",
        "\n",
        "interArrivalTime.insert(0,0)\n",
        "arrivalTime.insert(0,0)\n",
        "sTB.insert(0,0)\n",
        "waitingTime.insert(0,0)\n",
        "tIS.insert(0,0)\n",
        "\n",
        "for i in range (1,20):\n",
        "    arrivalTime.append(interArrivalTime[i] + arrivalTime[i-1])\n",
        "\n",
        "for i in range (20):\n",
        "  n = expon.rvs(scale=0.5, loc=5)\n",
        "  sT.append(n)\n",
        "\n",
        "sTE.insert(0,(sT[0] + sTB[0]))\n",
        "\n",
        "for i in range (1,20):\n",
        "  if (arrivalTime[i] > sTE[i-1]):\n",
        "    sTB.insert(i,round(arrivalTime[i],2))\n",
        "    sTE.insert(i,sTB[i] + sT[i])\n",
        "  else:\n",
        "    sTB.append(sTE[i-1])\n",
        "    sTE.insert(i,sTB[i] + sT[i])\n",
        "\n",
        "for i in range (1,20):\n",
        "  if (sTB[i] > arrivalTime[i]):\n",
        "    waitingTime.insert(i, sTB[i] - arrivalTime[i])\n",
        "  else:\n",
        "    waitingTime.insert(i,0)\n",
        "\n",
        "for i in range(20):\n",
        "  tSS.insert(i, sT[i] + waitingTime[i])\n",
        "\n",
        "for i in range (1,20):\n",
        "  if (sTE[i-1] < arrivalTime[i]):\n",
        "    tIS.insert(i,arrivalTime[i] - sTE[i-1])\n",
        "  else:\n",
        "    tIS.insert(i,0)\n",
        "\n",
        "print(\"Customer\\t Interarrival\\t Arrival\\t Service \\t SBT\\t\\t SET\\t\\t Waiting \\t Time Spend \\t Server Idle\")\n",
        "print(\"   No\\t \\t     Time\\t  Time\\t\\t  Time\\t\\t\\t\\t\\t\\t  Time\\t\\t in System\\t    Time    \")\n",
        "\n",
        "for i in range (1,21):\n",
        "  print(\"   \",i ,\"\\t\\t\", interArrivalTime[i-1], \"\\t\\t\", arrivalTime[i-1], \"\\t\\t\", sT[i-1], \"\\t\\t\", sTB[i-1], \"\\t\\t\" , sTE[i-1], \"\\t\\t\", waitingTime[i-1], \"\\t\\t\", tSS[i-1], \"\\t\\t\", tIS[i-1])"
      ],
      "execution_count": null,
      "outputs": []
    }
  ]
}